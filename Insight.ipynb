{
 "cells": [
  {
   "cell_type": "code",
   "execution_count": 23,
   "metadata": {
    "collapsed": true
   },
   "outputs": [],
   "source": [
    "import pandas as pd\n",
    "in_fel = pd.read_csv('insight_fellows.csv')"
   ]
  },
  {
   "cell_type": "code",
   "execution_count": 24,
   "metadata": {},
   "outputs": [
    {
     "name": "stdout",
     "output_type": "stream",
     "text": [
      "(620, 2)\n",
      "                       name              employer\n",
      "0  Alexander Tronchin-James              Facebook\n",
      "1               Nishan Mann  automotiveMastermind\n",
      "2              Sean McCurdy             Pinterest\n",
      "3                Kenny Kwan               Booster\n",
      "4                 Wei Zhang          Walmart Labs\n",
      "<class 'pandas.core.frame.DataFrame'>\n",
      "RangeIndex: 620 entries, 0 to 619\n",
      "Data columns (total 2 columns):\n",
      "name        620 non-null object\n",
      "employer    620 non-null object\n",
      "dtypes: object(2)\n",
      "memory usage: 4.9+ KB\n",
      "None\n"
     ]
    }
   ],
   "source": [
    "print(in_fel.shape)\n",
    "print(in_fel.head())\n",
    "print(in_fel.info())"
   ]
  },
  {
   "cell_type": "code",
   "execution_count": 25,
   "metadata": {},
   "outputs": [
    {
     "name": "stdout",
     "output_type": "stream",
     "text": [
      "318\n"
     ]
    }
   ],
   "source": [
    "# Number of distinct companies employing Insight data science fellows\n",
    "\n",
    "print(in_fel['employer'].nunique())"
   ]
  },
  {
   "cell_type": "code",
   "execution_count": 32,
   "metadata": {},
   "outputs": [
    {
     "name": "stdout",
     "output_type": "stream",
     "text": [
      "Facebook                       45\n",
      "Stitch Fix                     20\n",
      "null                           17\n",
      "LinkedIn                       16\n",
      "Insight Data Science           13\n",
      "Yelp                           11\n",
      "Netflix                        11\n",
      "Intuit                          9\n",
      "Airbnb                          9\n",
      "Square                          9\n",
      "Capital One                     8\n",
      "Uber                            8\n",
      "Twitter                         8\n",
      "Viacom                          7\n",
      "Silicon Valley Data Science     7\n",
      "Google                          7\n",
      "Gartner                         6\n",
      "Apple                           6\n",
      "Schireson                       6\n",
      "Microsoft Yammer                6\n",
      "Macy's                          5\n",
      "SalesforceIQ                    5\n",
      "Grand Rounds                    5\n",
      "IBM                             5\n",
      "Nielsen                         4\n",
      "Tamr                            4\n",
      "Amazon                          4\n",
      "Twitch                          4\n",
      "Sojern                          4\n",
      "Bloomberg                       4\n",
      "                               ..\n",
      "Element Analytics               1\n",
      "Handshake                       1\n",
      "Compass                         1\n",
      "Design Interactive              1\n",
      "Custora                         1\n",
      "Jet.com                         1\n",
      "Rubicon Project                 1\n",
      "Software Engineer               1\n",
      "YouTube                         1\n",
      "OpenSlate                       1\n",
      "Probayes                        1\n",
      "Winton Group                    1\n",
      "Zillabyte                       1\n",
      "The Broad Institute             1\n",
      "Booster                         1\n",
      "Parsec                          1\n",
      "ZocDoc                          1\n",
      "A9.com                          1\n",
      "Telefonica                      1\n",
      "Electronic Arts                 1\n",
      "Tesla                           1\n",
      "Akamai                          1\n",
      "Seven Bridges                   1\n",
      "BloomReach                      1\n",
      "Alpha-I                         1\n",
      "JP Morgan                       1\n",
      "Avant                           1\n",
      "Applecart                       1\n",
      "Morsum                          1\n",
      "State Farm                      1\n",
      "Name: employer, Length: 318, dtype: int64\n"
     ]
    }
   ],
   "source": [
    "# List of most prolific employers of Insight data science alumni\n",
    "\n",
    "employers = in_fel['employer'].value_counts()\n",
    "\n",
    "print(employers)"
   ]
  },
  {
   "cell_type": "code",
   "execution_count": 30,
   "metadata": {},
   "outputs": [
    {
     "name": "stdout",
     "output_type": "stream",
     "text": [
      "                          name  employer\n",
      "0     Alexander Tronchin-James  Facebook\n",
      "6              Christina Huang  Facebook\n",
      "53           David Hochstetler  Facebook\n",
      "58             Stephen Swedish  Facebook\n",
      "77                Erin Summers  Facebook\n",
      "79     Dominique Van de Sompel  Facebook\n",
      "101               Jack Cackler  Facebook\n",
      "120               Lindsay Vass  Facebook\n",
      "128          Julija Bagdonaite  Facebook\n",
      "133            Kevin Schaeffer  Facebook\n",
      "134           Elizabeth Leicht  Facebook\n",
      "139             Cinna Julie Wu  Facebook\n",
      "162                 Eric Zilli  Facebook\n",
      "170                Wenliang He  Facebook\n",
      "177                Mary Thomas  Facebook\n",
      "180                Adrian Kuhn  Facebook\n",
      "183                   Yan Wang  Facebook\n",
      "212               Zack Chadick  Facebook\n",
      "213                 Emma Ideal  Facebook\n",
      "216          Laura Guglielmini  Facebook\n",
      "269                  Keoki Seu  Facebook\n",
      "276          Cristian Figueroa  Facebook\n",
      "281               Matthew Folz  Facebook\n",
      "296                 Jen Steele  Facebook\n",
      "331             Justin Parella  Facebook\n",
      "342                    Mei Gao  Facebook\n",
      "347                   Wei Wang  Facebook\n",
      "391              Adel Dayarian  Facebook\n",
      "393             Hari Sivakumar  Facebook\n",
      "401                 Sumin Tang  Facebook\n",
      "411               Matt Langner  Facebook\n",
      "429                 Andrew Koo  Facebook\n",
      "442                     Yao Li  Facebook\n",
      "446              Kevin Wheeler  Facebook\n",
      "456             Maria Minakova  Facebook\n",
      "461             Mahshid Najafi  Facebook\n",
      "463              Maxwell Zheng  Facebook\n",
      "464  Virot Ta Chiraphadhanakul  Facebook\n",
      "471         Krystal St. Julien  Facebook\n",
      "476             Kristen Werner  Facebook\n",
      "486               Vickie Zhang  Facebook\n",
      "500             Nicholas Tomko  Facebook\n",
      "526            Laleh Sadeghian  Facebook\n",
      "553              Bryan Kerster  Facebook\n",
      "576                  Erin Hult  Facebook\n"
     ]
    }
   ],
   "source": [
    "print(in_fel[in_fel['employer'] == 'Facebook'])"
   ]
  },
  {
   "cell_type": "code",
   "execution_count": 33,
   "metadata": {},
   "outputs": [
    {
     "name": "stdout",
     "output_type": "stream",
     "text": [
      "count    318.000000\n",
      "mean       1.949686\n",
      "std        3.363937\n",
      "min        1.000000\n",
      "25%        1.000000\n",
      "50%        1.000000\n",
      "75%        1.000000\n",
      "max       45.000000\n",
      "Name: employer, dtype: float64\n"
     ]
    }
   ],
   "source": [
    "# Summary statistics\n",
    "\n",
    "print(employers.describe())"
   ]
  }
 ],
 "metadata": {
  "kernelspec": {
   "display_name": "Python 3",
   "language": "python",
   "name": "python3"
  },
  "language_info": {
   "codemirror_mode": {
    "name": "ipython",
    "version": 3
   },
   "file_extension": ".py",
   "mimetype": "text/x-python",
   "name": "python",
   "nbconvert_exporter": "python",
   "pygments_lexer": "ipython3",
   "version": "3.6.1"
  }
 },
 "nbformat": 4,
 "nbformat_minor": 2
}
